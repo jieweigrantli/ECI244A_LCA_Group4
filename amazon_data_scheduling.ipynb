{
 "cells": [
  {
   "cell_type": "code",
   "execution_count": 1,
   "metadata": {},
   "outputs": [],
   "source": [
    "import json\n",
    "import os\n"
   ]
  },
  {
   "cell_type": "code",
   "execution_count": 2,
   "metadata": {},
   "outputs": [],
   "source": [
    "\n",
    "# Specify the paths to your data files\n",
    "data_dir = os.path.expanduser('~/.rc-cli/data/model_apply_inputs/')\n",
    "route_data_file = os.path.join(data_dir, 'eval_route_data.json')\n",
    "package_data_file = os.path.join(data_dir, 'eval_package_data.json')\n",
    "travel_times_file = os.path.join(data_dir, 'eval_travel_times.json')\n",
    "\n",
    "# Output files\n",
    "output_dir = './filtered_data/'\n",
    "os.makedirs(output_dir, exist_ok=True)\n",
    "filtered_route_data_file = os.path.join(output_dir, 'filtered_route_data.json')\n",
    "filtered_package_data_file = os.path.join(output_dir, 'filtered_package_data.json')\n",
    "filtered_travel_times_file = os.path.join(output_dir, 'filtered_travel_times.json')\n"
   ]
  },
  {
   "cell_type": "code",
   "execution_count": null,
   "metadata": {},
   "outputs": [
    {
     "name": "stdout",
     "output_type": "stream",
     "text": [
      "Available Station Codes:\n",
      "DSE5\n",
      "DSE4\n",
      "DCH4\n",
      "DSE2\n",
      "DBO6\n",
      "DLA7\n",
      "DLA5\n",
      "DBO2\n",
      "DLA3\n",
      "DBO1\n",
      "DCH3\n",
      "DCH2\n",
      "DBO3\n",
      "DCH1\n",
      "DAU1\n",
      "DLA9\n",
      "DLA8\n",
      "DLA4\n"
     ]
    }
   ],
   "source": [
    "# Load route_data.json\n",
    "with open(route_data_file, 'r') as file:\n",
    "    route_data = json.load(file)\n",
    "\n",
    "# Extract all station codes\n",
    "station_codes = set()\n",
    "for data in route_data.values():\n",
    "    station_codes.add(data['station_code'])\n",
    "\n",
    "print(\"Available Station Codes:\")\n",
    "for code in station_codes:\n",
    "    print(code)"
   ]
  },
  {
   "cell_type": "code",
   "execution_count": 5,
   "metadata": {},
   "outputs": [],
   "source": [
    "\n",
    "# Parameters to adjust\n",
    "TARGET_STATION_CODE = 'DSE5'  # Replace with your station code or leave as None\n",
    "NUM_ROUTES = 100  # Number of routes to extract\n"
   ]
  },
  {
   "cell_type": "code",
   "execution_count": 6,
   "metadata": {},
   "outputs": [],
   "source": [
    "\n",
    "\n",
    "# Filter RouteIDs based on station code or select random routes\n",
    "if TARGET_STATION_CODE:\n",
    "    # Filter routes by station code\n",
    "    selected_route_ids = [rid for rid, data in route_data.items() if data['station_code'] == TARGET_STATION_CODE]\n",
    "else:\n",
    "    # If no station code is specified, select random routes\n",
    "    import random\n",
    "    selected_route_ids = list(route_data.keys())\n",
    "    random.shuffle(selected_route_ids)\n",
    "\n",
    "# Limit to the desired number of routes\n",
    "selected_route_ids = selected_route_ids[:NUM_ROUTES]\n",
    "\n"
   ]
  },
  {
   "cell_type": "code",
   "execution_count": 7,
   "metadata": {},
   "outputs": [],
   "source": [
    "# Function to extract data for selected routes\n",
    "def extract_data(input_file, selected_route_ids, output_file):\n",
    "    with open(input_file, 'r') as file:\n",
    "        data = json.load(file)\n",
    "    selected_data = {rid: data[rid] for rid in selected_route_ids if rid in data}\n",
    "    with open(output_file, 'w') as file:\n",
    "        json.dump(selected_data, file)\n",
    "\n"
   ]
  },
  {
   "cell_type": "code",
   "execution_count": 8,
   "metadata": {},
   "outputs": [
    {
     "name": "stdout",
     "output_type": "stream",
     "text": [
      "Extracted data for routes: ['RouteID_04509bfe-b087-41b4-bdbc-54a467c65220', 'RouteID_0937c1c7-2c3a-4f77-9189-dd72544283ec', 'RouteID_0c074683-4b46-464f-bf77-71396ceef394', 'RouteID_0c52a8d0-fdce-4c98-be32-2312219c940f', 'RouteID_0d9d8038-c63c-442b-a768-0f02a87608bd', 'RouteID_0ddb5856-93ba-4d0c-9746-daa44898c3a7', 'RouteID_105057c0-2006-4ea3-87f0-a7d795438684', 'RouteID_11122fc9-f0f1-4cd4-b50e-cb3a459f72e0', 'RouteID_114d3c5a-d9e6-40d3-b6e8-24c906d570be', 'RouteID_129dbea4-c41d-4db8-87f6-53a31711b190', 'RouteID_15d0ee6e-2e64-4620-bed3-b37821e12228', 'RouteID_15f9a994-d468-44fe-95a8-82ce0ac768e5', 'RouteID_18be12b0-ce68-4fa7-b8fc-a54b924f5afc', 'RouteID_1caef4ef-db1a-47b2-a77a-593b0c5d9fc4', 'RouteID_1d839f0f-e315-4e30-bcf9-b433dd4379fd', 'RouteID_23e1d7c3-f51e-4933-92f3-1a6a14b93d1b', 'RouteID_25dcbccd-2804-41f6-9558-8cdd646c50c8', 'RouteID_28850462-e20a-4177-a475-732cf9e966a4', 'RouteID_2999f68b-dc4d-4005-b34b-1714464e8e68', 'RouteID_2e469d92-af48-4f5d-8aec-efd8ee0991eb', 'RouteID_2fec1095-36e4-431a-b5aa-da005e9f63c1', 'RouteID_30537fa7-003b-4fc6-9452-00223029b4e0', 'RouteID_33c2573a-655a-4ee2-b595-3d409ccc3363', 'RouteID_3696b2d1-7993-4902-a26d-1e19fcd23dd2', 'RouteID_392bbbe2-6a68-45d7-bb44-c4d47a614b5c', 'RouteID_3a0345d2-2461-4228-b03a-a63b2f9a1a41', 'RouteID_3a38b051-7829-44c1-8257-eca20e3aa557', 'RouteID_3a673891-beab-4a7f-960f-35433e1abc6c', 'RouteID_3c5bdf7d-962b-4d86-af1c-daa482fa1559', 'RouteID_3f48ee82-32eb-4edb-b445-8c315ceb85a6', 'RouteID_410cae38-dec3-4ec7-aa31-c2f44a498bff', 'RouteID_4283a63e-4c60-4326-af53-fc8d5977c7dc', 'RouteID_442eec6f-5781-411c-89a3-51b7a5d47c3d', 'RouteID_47faf041-1046-4cc0-891f-8b2acba51d45', 'RouteID_4942eb99-9c41-40f2-9b6d-06219f9ef765', 'RouteID_4aaa81af-16a3-4ad9-ae8a-e94b7c632fab', 'RouteID_4ca84ca7-083e-4238-b02a-e14113968b30', 'RouteID_4d9b0d8e-95d2-4778-b576-273309989a31', 'RouteID_4e303a4b-12ad-47d1-9768-f0d76c3c15ec', 'RouteID_5155f2a6-bd60-43a9-8c11-e80057e804aa', 'RouteID_540800b0-646e-44de-8b05-652c97de009f', 'RouteID_5996aa88-a991-4ed8-bb93-8f81863a73ee', 'RouteID_5b76d097-b9d8-452c-8fad-82016835c9ed', 'RouteID_5fd58bde-d0ba-46af-9dac-515de53e6f4f', 'RouteID_606bb58e-a8c3-418f-883f-5332f7b3b610', 'RouteID_62aa97be-315c-41f8-94d6-2ccbfa9ee3bf', 'RouteID_67fe46bc-5ae2-4939-84ad-c638fd82dd63', 'RouteID_68b21015-89c7-4227-b764-5b130124c169', 'RouteID_6934df1d-cd39-4b1d-aafe-aa071c8b1fdd', 'RouteID_6d4d065e-a30f-40b7-8466-5e7dbd56a460', 'RouteID_6fbcdbe7-98f6-4cd7-8a8a-65063a3f2ddf', 'RouteID_72166ad0-470e-443f-acbe-fd4b283b5b83', 'RouteID_73735895-afd6-423a-9890-3402cb9229e7', 'RouteID_760da0e0-afaf-42c0-a39b-9bd24d4b78a8', 'RouteID_78545698-f262-4757-b9b7-2330db8d264d', 'RouteID_786771c7-d0ea-459e-bc8b-b0431a024447', 'RouteID_791029b6-b732-425e-b3b5-cf3a94769b37', 'RouteID_7acf84b2-6870-4764-bcda-34f5a7760006', 'RouteID_7eb094a6-79e5-4e04-a768-57741e056493', 'RouteID_7f9dfeb5-3d8d-43c6-86a4-b6f176c7c05c', 'RouteID_7fe29c88-77b6-4294-ae74-59262be48f2e', 'RouteID_81648e57-3a06-4864-948a-d86d962821c8', 'RouteID_83b816ff-f6c8-4df7-aa82-e4ba6a3ce03a', 'RouteID_841eab75-7ffd-41bf-b315-de1b94f26cd3', 'RouteID_850d24dc-eaa2-4baa-8355-f840c14df5fb', 'RouteID_898fcf07-3862-4029-946f-368f3a433c8d', 'RouteID_89d893a4-fa05-4b53-9c6e-0738da874ba5', 'RouteID_8c54e72c-759a-4063-afa7-28e6f5b0cb1d', 'RouteID_961361b8-30cc-4520-977d-63997913b07d', 'RouteID_99a1a511-e1ff-4146-86de-56d08f8f8726', 'RouteID_9c05cd7b-3d3a-421a-8bc5-6523d087764a', 'RouteID_9dd89af2-220a-4b73-ac3a-dc5b1e662ff4', 'RouteID_a14a9f76-4ab0-4241-9edd-c4368372df47', 'RouteID_a5d6c627-7f34-4088-a988-e4130004eb59', 'RouteID_a6c613d2-e411-4cc4-bbed-77557463f210', 'RouteID_aa2ae43c-ea82-43dc-858b-8d6263284337', 'RouteID_ab32a425-a3da-43a5-a3b4-e9ad93d18200', 'RouteID_ac4bb38a-7c28-4375-9c8b-70d32e747731', 'RouteID_acdb384e-96b0-4bd3-b383-ef4d378021fd', 'RouteID_b049ff52-3ff2-42c0-a015-a99357bfd14f', 'RouteID_b4b129be-e1b9-4825-b72f-6c3726b1c6d1', 'RouteID_b5acfce8-925d-42ac-8e43-2ff0683e3dca', 'RouteID_b74aa24d-3002-460a-823c-eeea655fb7e1', 'RouteID_b831e329-03f9-4328-af80-1fe36f00803a', 'RouteID_b8eddedd-14c7-4605-9256-c6aa9396fa6b', 'RouteID_bb67512f-22bb-4fb9-8850-18b9fe8f7873', 'RouteID_c099d353-70d9-45b3-8bc5-41bdd90cbd58', 'RouteID_c6f04a51-120c-40bc-b1e4-87cb2e6e0172', 'RouteID_c9fd20fc-3e39-4c59-9a20-89ec553fdc73', 'RouteID_cbd0f9d8-ac77-4dd8-b535-618d81e39364', 'RouteID_cd72b421-26d7-466b-a756-8bdcd22abf2b', 'RouteID_d066c746-ec85-48c7-8ca7-052f7e6a0275', 'RouteID_d0f5fc0c-82d8-4336-b078-e8bb3306ca69', 'RouteID_d1d69436-b16a-48e4-9566-03884da2291a', 'RouteID_d440f52e-1138-4cbf-8fcc-79a68cdf7491', 'RouteID_d638036c-ea3c-46a2-8596-f54e547123b5', 'RouteID_d73897c8-e573-4bfa-b273-7b9343c14596', 'RouteID_d93b4915-7870-40f1-bf60-d48e024f0035', 'RouteID_da88464f-c1d8-408b-b360-be57ec995e20', 'RouteID_db5a2497-851c-452d-875d-2023006a6e25']\n",
      "Filtered data saved in directory: ./filtered_data/\n"
     ]
    }
   ],
   "source": [
    "# Extract and save the filtered data\n",
    "extract_data(route_data_file, selected_route_ids, filtered_route_data_file)\n",
    "extract_data(package_data_file, selected_route_ids, filtered_package_data_file)\n",
    "extract_data(travel_times_file, selected_route_ids, filtered_travel_times_file)\n",
    "\n",
    "print(f\"Extracted data for routes: {selected_route_ids}\")\n",
    "print(f\"Filtered data saved in directory: {output_dir}\")"
   ]
  }
 ],
 "metadata": {
  "kernelspec": {
   "display_name": "base",
   "language": "python",
   "name": "python3"
  },
  "language_info": {
   "codemirror_mode": {
    "name": "ipython",
    "version": 3
   },
   "file_extension": ".py",
   "mimetype": "text/x-python",
   "name": "python",
   "nbconvert_exporter": "python",
   "pygments_lexer": "ipython3",
   "version": "3.9.13"
  }
 },
 "nbformat": 4,
 "nbformat_minor": 2
}
