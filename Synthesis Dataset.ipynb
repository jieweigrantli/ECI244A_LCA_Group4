{
 "cells": [
  {
   "cell_type": "code",
   "execution_count": null,
   "metadata": {},
   "outputs": [],
   "source": [
    "# Coordinates Generation\n",
    "\n",
    "import random\n",
    "\n",
    "num_stops = 10\n",
    "stops = {}\n",
    "for i in range(num_stops):\n",
    "    stop_id = chr(65 + i)  # 'A', 'B', 'C', etc.\n",
    "    stops[stop_id] = {\n",
    "        'lat': random.uniform(37.0, 38.0),\n",
    "        'lng': random.uniform(-122.0, -121.0),\n",
    "        'type': 'Dropoff',\n",
    "        'zone_id': f'1-{stop_id}'\n",
    "    }"
   ]
  },
  {
   "cell_type": "code",
   "execution_count": null,
   "metadata": {},
   "outputs": [],
   "source": [
    "# Packages Data\n",
    "\n",
    "package_data = {}\n",
    "for stop_id in stops:\n",
    "    package_data[stop_id] = {\n",
    "        f'PackageID_{stop_id}': {\n",
    "            'time_window': {\n",
    "                'start_time_utc': '2023-10-01 08:00:00',\n",
    "                'end_time_utc': '2023-10-01 18:00:00'\n",
    "            },\n",
    "            'planned_service_time_seconds': random.randint(60, 300),\n",
    "            'dimensions': {\n",
    "                'depth_cm': random.uniform(10, 50),\n",
    "                'height_cm': random.uniform(10, 50),\n",
    "                'width_cm': random.uniform(10, 50)\n",
    "            }\n",
    "        }\n",
    "    }"
   ]
  },
  {
   "cell_type": "code",
   "execution_count": null,
   "metadata": {},
   "outputs": [],
   "source": [
    "# Travel Times\n",
    "from math import sqrt\n",
    "\n",
    "travel_times = {}\n",
    "stop_ids = list(stops.keys())\n",
    "for i in stop_ids:\n",
    "    travel_times[i] = {}\n",
    "    for j in stop_ids:\n",
    "        if i == j:\n",
    "            travel_times[i][j] = 0\n",
    "        else:\n",
    "            dx = stops[i]['lat'] - stops[j]['lat']\n",
    "            dy = stops[i]['lng'] - stops[j]['lng']\n",
    "            distance = sqrt(dx*dx + dy*dy)\n",
    "            # Assume average speed of 50 km/h\n",
    "            travel_time = (distance / 50) * 3600  # Convert hours to seconds\n",
    "            travel_times[i][j] = travel_time"
   ]
  },
  {
   "cell_type": "code",
   "execution_count": null,
   "metadata": {},
   "outputs": [],
   "source": [
    "# route_data.json\n",
    "\n",
    "route_data = {\n",
    "    'RouteID_001': {\n",
    "        'station_code': 'Station_A',\n",
    "        'date_YYYY_MM_DD': '2023-10-01',\n",
    "        'departure_time_utc': '08:00:00',\n",
    "        'executor_capacity_cm3': 1000000,\n",
    "        'stops': stops\n",
    "    }\n",
    "}"
   ]
  },
  {
   "cell_type": "code",
   "execution_count": null,
   "metadata": {},
   "outputs": [],
   "source": [
    "# Save Data to JSON Files\n",
    "with open('route_data.json', 'w') as file:\n",
    "    json.dump(route_data, file)\n",
    "\n",
    "with open('package_data.json', 'w') as file:\n",
    "    json.dump({'RouteID_001': package_data}, file)\n",
    "\n",
    "with open('travel_times.json', 'w') as file:\n",
    "    json.dump({'RouteID_001': travel_times}, file)"
   ]
  }
 ],
 "metadata": {
  "language_info": {
   "name": "python"
  }
 },
 "nbformat": 4,
 "nbformat_minor": 2
}
